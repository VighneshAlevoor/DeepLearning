{
  "nbformat": 4,
  "nbformat_minor": 0,
  "metadata": {
    "colab": {
      "name": "ANN_PreTuning.ipynb",
      "provenance": [],
      "collapsed_sections": [],
      "authorship_tag": "ABX9TyO+XN0jkuVaIKZhGWq0AYTi",
      "include_colab_link": true
    },
    "kernelspec": {
      "name": "python3",
      "display_name": "Python 3"
    }
  },
  "cells": [
    {
      "cell_type": "markdown",
      "metadata": {
        "id": "view-in-github",
        "colab_type": "text"
      },
      "source": [
        "<a href=\"https://colab.research.google.com/github/VighneshAlevoor/DeepLearning/blob/master/ANN_PreTuning.ipynb\" target=\"_parent\"><img src=\"https://colab.research.google.com/assets/colab-badge.svg\" alt=\"Open In Colab\"/></a>"
      ]
    },
    {
      "cell_type": "code",
      "metadata": {
        "id": "-VR-iKjLhDnn",
        "colab_type": "code",
        "colab": {}
      },
      "source": [
        "import numpy as np\n",
        "import pandas as pd\n",
        "import matplotlib.pyplot as plt\n",
        "import seaborn as sns"
      ],
      "execution_count": 0,
      "outputs": []
    },
    {
      "cell_type": "code",
      "metadata": {
        "id": "Aq9rXAkBhNl4",
        "colab_type": "code",
        "colab": {
          "base_uri": "https://localhost:8080/",
          "height": 439
        },
        "outputId": "4d80e813-4d50-4f56-b624-adc2122b9d12"
      },
      "source": [
        "data=pd.read_csv(\"Churn_Modelling.csv\")\n",
        "data"
      ],
      "execution_count": 2,
      "outputs": [
        {
          "output_type": "execute_result",
          "data": {
            "text/html": [
              "<div>\n",
              "<style scoped>\n",
              "    .dataframe tbody tr th:only-of-type {\n",
              "        vertical-align: middle;\n",
              "    }\n",
              "\n",
              "    .dataframe tbody tr th {\n",
              "        vertical-align: top;\n",
              "    }\n",
              "\n",
              "    .dataframe thead th {\n",
              "        text-align: right;\n",
              "    }\n",
              "</style>\n",
              "<table border=\"1\" class=\"dataframe\">\n",
              "  <thead>\n",
              "    <tr style=\"text-align: right;\">\n",
              "      <th></th>\n",
              "      <th>RowNumber</th>\n",
              "      <th>CustomerId</th>\n",
              "      <th>Surname</th>\n",
              "      <th>CreditScore</th>\n",
              "      <th>Geography</th>\n",
              "      <th>Gender</th>\n",
              "      <th>Age</th>\n",
              "      <th>Tenure</th>\n",
              "      <th>Balance</th>\n",
              "      <th>NumOfProducts</th>\n",
              "      <th>HasCrCard</th>\n",
              "      <th>IsActiveMember</th>\n",
              "      <th>EstimatedSalary</th>\n",
              "      <th>Exited</th>\n",
              "    </tr>\n",
              "  </thead>\n",
              "  <tbody>\n",
              "    <tr>\n",
              "      <th>0</th>\n",
              "      <td>1</td>\n",
              "      <td>15634602</td>\n",
              "      <td>Hargrave</td>\n",
              "      <td>619</td>\n",
              "      <td>France</td>\n",
              "      <td>Female</td>\n",
              "      <td>42</td>\n",
              "      <td>2</td>\n",
              "      <td>0.00</td>\n",
              "      <td>1</td>\n",
              "      <td>1</td>\n",
              "      <td>1</td>\n",
              "      <td>101348.88</td>\n",
              "      <td>1</td>\n",
              "    </tr>\n",
              "    <tr>\n",
              "      <th>1</th>\n",
              "      <td>2</td>\n",
              "      <td>15647311</td>\n",
              "      <td>Hill</td>\n",
              "      <td>608</td>\n",
              "      <td>Spain</td>\n",
              "      <td>Female</td>\n",
              "      <td>41</td>\n",
              "      <td>1</td>\n",
              "      <td>83807.86</td>\n",
              "      <td>1</td>\n",
              "      <td>0</td>\n",
              "      <td>1</td>\n",
              "      <td>112542.58</td>\n",
              "      <td>0</td>\n",
              "    </tr>\n",
              "    <tr>\n",
              "      <th>2</th>\n",
              "      <td>3</td>\n",
              "      <td>15619304</td>\n",
              "      <td>Onio</td>\n",
              "      <td>502</td>\n",
              "      <td>France</td>\n",
              "      <td>Female</td>\n",
              "      <td>42</td>\n",
              "      <td>8</td>\n",
              "      <td>159660.80</td>\n",
              "      <td>3</td>\n",
              "      <td>1</td>\n",
              "      <td>0</td>\n",
              "      <td>113931.57</td>\n",
              "      <td>1</td>\n",
              "    </tr>\n",
              "    <tr>\n",
              "      <th>3</th>\n",
              "      <td>4</td>\n",
              "      <td>15701354</td>\n",
              "      <td>Boni</td>\n",
              "      <td>699</td>\n",
              "      <td>France</td>\n",
              "      <td>Female</td>\n",
              "      <td>39</td>\n",
              "      <td>1</td>\n",
              "      <td>0.00</td>\n",
              "      <td>2</td>\n",
              "      <td>0</td>\n",
              "      <td>0</td>\n",
              "      <td>93826.63</td>\n",
              "      <td>0</td>\n",
              "    </tr>\n",
              "    <tr>\n",
              "      <th>4</th>\n",
              "      <td>5</td>\n",
              "      <td>15737888</td>\n",
              "      <td>Mitchell</td>\n",
              "      <td>850</td>\n",
              "      <td>Spain</td>\n",
              "      <td>Female</td>\n",
              "      <td>43</td>\n",
              "      <td>2</td>\n",
              "      <td>125510.82</td>\n",
              "      <td>1</td>\n",
              "      <td>1</td>\n",
              "      <td>1</td>\n",
              "      <td>79084.10</td>\n",
              "      <td>0</td>\n",
              "    </tr>\n",
              "    <tr>\n",
              "      <th>...</th>\n",
              "      <td>...</td>\n",
              "      <td>...</td>\n",
              "      <td>...</td>\n",
              "      <td>...</td>\n",
              "      <td>...</td>\n",
              "      <td>...</td>\n",
              "      <td>...</td>\n",
              "      <td>...</td>\n",
              "      <td>...</td>\n",
              "      <td>...</td>\n",
              "      <td>...</td>\n",
              "      <td>...</td>\n",
              "      <td>...</td>\n",
              "      <td>...</td>\n",
              "    </tr>\n",
              "    <tr>\n",
              "      <th>9995</th>\n",
              "      <td>9996</td>\n",
              "      <td>15606229</td>\n",
              "      <td>Obijiaku</td>\n",
              "      <td>771</td>\n",
              "      <td>France</td>\n",
              "      <td>Male</td>\n",
              "      <td>39</td>\n",
              "      <td>5</td>\n",
              "      <td>0.00</td>\n",
              "      <td>2</td>\n",
              "      <td>1</td>\n",
              "      <td>0</td>\n",
              "      <td>96270.64</td>\n",
              "      <td>0</td>\n",
              "    </tr>\n",
              "    <tr>\n",
              "      <th>9996</th>\n",
              "      <td>9997</td>\n",
              "      <td>15569892</td>\n",
              "      <td>Johnstone</td>\n",
              "      <td>516</td>\n",
              "      <td>France</td>\n",
              "      <td>Male</td>\n",
              "      <td>35</td>\n",
              "      <td>10</td>\n",
              "      <td>57369.61</td>\n",
              "      <td>1</td>\n",
              "      <td>1</td>\n",
              "      <td>1</td>\n",
              "      <td>101699.77</td>\n",
              "      <td>0</td>\n",
              "    </tr>\n",
              "    <tr>\n",
              "      <th>9997</th>\n",
              "      <td>9998</td>\n",
              "      <td>15584532</td>\n",
              "      <td>Liu</td>\n",
              "      <td>709</td>\n",
              "      <td>France</td>\n",
              "      <td>Female</td>\n",
              "      <td>36</td>\n",
              "      <td>7</td>\n",
              "      <td>0.00</td>\n",
              "      <td>1</td>\n",
              "      <td>0</td>\n",
              "      <td>1</td>\n",
              "      <td>42085.58</td>\n",
              "      <td>1</td>\n",
              "    </tr>\n",
              "    <tr>\n",
              "      <th>9998</th>\n",
              "      <td>9999</td>\n",
              "      <td>15682355</td>\n",
              "      <td>Sabbatini</td>\n",
              "      <td>772</td>\n",
              "      <td>Germany</td>\n",
              "      <td>Male</td>\n",
              "      <td>42</td>\n",
              "      <td>3</td>\n",
              "      <td>75075.31</td>\n",
              "      <td>2</td>\n",
              "      <td>1</td>\n",
              "      <td>0</td>\n",
              "      <td>92888.52</td>\n",
              "      <td>1</td>\n",
              "    </tr>\n",
              "    <tr>\n",
              "      <th>9999</th>\n",
              "      <td>10000</td>\n",
              "      <td>15628319</td>\n",
              "      <td>Walker</td>\n",
              "      <td>792</td>\n",
              "      <td>France</td>\n",
              "      <td>Female</td>\n",
              "      <td>28</td>\n",
              "      <td>4</td>\n",
              "      <td>130142.79</td>\n",
              "      <td>1</td>\n",
              "      <td>1</td>\n",
              "      <td>0</td>\n",
              "      <td>38190.78</td>\n",
              "      <td>0</td>\n",
              "    </tr>\n",
              "  </tbody>\n",
              "</table>\n",
              "<p>10000 rows × 14 columns</p>\n",
              "</div>"
            ],
            "text/plain": [
              "      RowNumber  CustomerId    Surname  ...  IsActiveMember EstimatedSalary Exited\n",
              "0             1    15634602   Hargrave  ...               1       101348.88      1\n",
              "1             2    15647311       Hill  ...               1       112542.58      0\n",
              "2             3    15619304       Onio  ...               0       113931.57      1\n",
              "3             4    15701354       Boni  ...               0        93826.63      0\n",
              "4             5    15737888   Mitchell  ...               1        79084.10      0\n",
              "...         ...         ...        ...  ...             ...             ...    ...\n",
              "9995       9996    15606229   Obijiaku  ...               0        96270.64      0\n",
              "9996       9997    15569892  Johnstone  ...               1       101699.77      0\n",
              "9997       9998    15584532        Liu  ...               1        42085.58      1\n",
              "9998       9999    15682355  Sabbatini  ...               0        92888.52      1\n",
              "9999      10000    15628319     Walker  ...               0        38190.78      0\n",
              "\n",
              "[10000 rows x 14 columns]"
            ]
          },
          "metadata": {
            "tags": []
          },
          "execution_count": 2
        }
      ]
    },
    {
      "cell_type": "code",
      "metadata": {
        "id": "s16PHDvXhYYH",
        "colab_type": "code",
        "colab": {
          "base_uri": "https://localhost:8080/",
          "height": 136
        },
        "outputId": "e4023ba8-b782-45e6-f81d-3ff9741e4143"
      },
      "source": [
        "x=data.iloc[:,3:-1].values\n",
        "y=data.iloc[:,-1:].values\n",
        "x"
      ],
      "execution_count": 3,
      "outputs": [
        {
          "output_type": "execute_result",
          "data": {
            "text/plain": [
              "array([[619, 'France', 'Female', ..., 1, 1, 101348.88],\n",
              "       [608, 'Spain', 'Female', ..., 0, 1, 112542.58],\n",
              "       [502, 'France', 'Female', ..., 1, 0, 113931.57],\n",
              "       ...,\n",
              "       [709, 'France', 'Female', ..., 0, 1, 42085.58],\n",
              "       [772, 'Germany', 'Male', ..., 1, 0, 92888.52],\n",
              "       [792, 'France', 'Female', ..., 1, 0, 38190.78]], dtype=object)"
            ]
          },
          "metadata": {
            "tags": []
          },
          "execution_count": 3
        }
      ]
    },
    {
      "cell_type": "code",
      "metadata": {
        "id": "qBSAkU7shrNR",
        "colab_type": "code",
        "colab": {}
      },
      "source": [
        "from sklearn.preprocessing import LabelEncoder, OneHotEncoder\n",
        "from sklearn.compose import ColumnTransformer"
      ],
      "execution_count": 0,
      "outputs": []
    },
    {
      "cell_type": "code",
      "metadata": {
        "id": "ImlijjZZkFjk",
        "colab_type": "code",
        "colab": {
          "base_uri": "https://localhost:8080/",
          "height": 136
        },
        "outputId": "92b6d15f-7401-4392-cd93-e14d184fe9d7"
      },
      "source": [
        "label1=LabelEncoder()\n",
        "x[:,1]=label1.fit_transform(x[:,1])\n",
        "label2=LabelEncoder()\n",
        "x[:,2]=label2.fit_transform(x[:,2])\n",
        "x"
      ],
      "execution_count": 5,
      "outputs": [
        {
          "output_type": "execute_result",
          "data": {
            "text/plain": [
              "array([[619, 0, 0, ..., 1, 1, 101348.88],\n",
              "       [608, 2, 0, ..., 0, 1, 112542.58],\n",
              "       [502, 0, 0, ..., 1, 0, 113931.57],\n",
              "       ...,\n",
              "       [709, 0, 0, ..., 0, 1, 42085.58],\n",
              "       [772, 1, 1, ..., 1, 0, 92888.52],\n",
              "       [792, 0, 0, ..., 1, 0, 38190.78]], dtype=object)"
            ]
          },
          "metadata": {
            "tags": []
          },
          "execution_count": 5
        }
      ]
    },
    {
      "cell_type": "code",
      "metadata": {
        "id": "8TUF9OwBk5by",
        "colab_type": "code",
        "colab": {
          "base_uri": "https://localhost:8080/",
          "height": 136
        },
        "outputId": "d07bcdd7-447c-4e1e-a531-bf72ac0af028"
      },
      "source": [
        "colT=ColumnTransformer([('Encoding',OneHotEncoder(),[1])], remainder='passthrough')\n",
        "x=colT.fit_transform(x)\n",
        "x"
      ],
      "execution_count": 6,
      "outputs": [
        {
          "output_type": "execute_result",
          "data": {
            "text/plain": [
              "array([[1.0, 0.0, 0.0, ..., 1, 1, 101348.88],\n",
              "       [0.0, 0.0, 1.0, ..., 0, 1, 112542.58],\n",
              "       [1.0, 0.0, 0.0, ..., 1, 0, 113931.57],\n",
              "       ...,\n",
              "       [1.0, 0.0, 0.0, ..., 0, 1, 42085.58],\n",
              "       [0.0, 1.0, 0.0, ..., 1, 0, 92888.52],\n",
              "       [1.0, 0.0, 0.0, ..., 1, 0, 38190.78]], dtype=object)"
            ]
          },
          "metadata": {
            "tags": []
          },
          "execution_count": 6
        }
      ]
    },
    {
      "cell_type": "code",
      "metadata": {
        "id": "_vcat6SanjVP",
        "colab_type": "code",
        "colab": {
          "base_uri": "https://localhost:8080/",
          "height": 34
        },
        "outputId": "0492c4ac-4aa3-4eff-8f0c-646a1b1daa99"
      },
      "source": [
        "x=x[:,1:]\n",
        "x.shape"
      ],
      "execution_count": 7,
      "outputs": [
        {
          "output_type": "execute_result",
          "data": {
            "text/plain": [
              "(10000, 11)"
            ]
          },
          "metadata": {
            "tags": []
          },
          "execution_count": 7
        }
      ]
    },
    {
      "cell_type": "code",
      "metadata": {
        "id": "CCg3fghDob6z",
        "colab_type": "code",
        "colab": {}
      },
      "source": [
        "from sklearn.model_selection import train_test_split\n",
        "from sklearn.preprocessing import StandardScaler"
      ],
      "execution_count": 0,
      "outputs": []
    },
    {
      "cell_type": "code",
      "metadata": {
        "id": "a1CARwq3ojKQ",
        "colab_type": "code",
        "colab": {}
      },
      "source": [
        "x_train,x_test,y_train,y_test=train_test_split(x,y,test_size=0.2,random_state=0)"
      ],
      "execution_count": 0,
      "outputs": []
    },
    {
      "cell_type": "code",
      "metadata": {
        "id": "OhSpI7fso69z",
        "colab_type": "code",
        "colab": {}
      },
      "source": [
        "scaler=StandardScaler()\n",
        "x_train=scaler.fit_transform(x_train)\n",
        "x_test=scaler.transform(x_test)"
      ],
      "execution_count": 0,
      "outputs": []
    },
    {
      "cell_type": "code",
      "metadata": {
        "id": "cdCSElKNrN1O",
        "colab_type": "code",
        "colab": {}
      },
      "source": [
        "import keras\n",
        "from keras.models import Sequential\n",
        "from keras.layers import Dense"
      ],
      "execution_count": 0,
      "outputs": []
    },
    {
      "cell_type": "code",
      "metadata": {
        "id": "oFq0DyrDroLI",
        "colab_type": "code",
        "colab": {
          "base_uri": "https://localhost:8080/",
          "height": 71
        },
        "outputId": "cb7ffd71-4b39-4074-f183-05904f5c5691"
      },
      "source": [
        "classifier=Sequential()"
      ],
      "execution_count": 14,
      "outputs": [
        {
          "output_type": "stream",
          "text": [
            "WARNING:tensorflow:From /usr/local/lib/python3.6/dist-packages/keras/backend/tensorflow_backend.py:66: The name tf.get_default_graph is deprecated. Please use tf.compat.v1.get_default_graph instead.\n",
            "\n"
          ],
          "name": "stdout"
        }
      ]
    },
    {
      "cell_type": "code",
      "metadata": {
        "id": "KALSEv0xuBQY",
        "colab_type": "code",
        "colab": {
          "base_uri": "https://localhost:8080/",
          "height": 139
        },
        "outputId": "82d7cccd-6782-482f-a34c-cc4934c72b96"
      },
      "source": [
        "#adding input layer and first hidden layer\n",
        "classifier.add(Dense(output_dim=6, init='uniform', activation='relu', input_dim=11))      \n",
        "#output_dim - hidden layer: can do parameter tuning else we can take avg of input layer+output layer\n",
        "#init - assigns weights randomly in small values\n",
        "#activation - rectifier for hidden (standard in most cases) and sigmoid for output"
      ],
      "execution_count": 15,
      "outputs": [
        {
          "output_type": "stream",
          "text": [
            "WARNING:tensorflow:From /usr/local/lib/python3.6/dist-packages/keras/backend/tensorflow_backend.py:541: The name tf.placeholder is deprecated. Please use tf.compat.v1.placeholder instead.\n",
            "\n",
            "WARNING:tensorflow:From /usr/local/lib/python3.6/dist-packages/keras/backend/tensorflow_backend.py:4432: The name tf.random_uniform is deprecated. Please use tf.random.uniform instead.\n",
            "\n"
          ],
          "name": "stdout"
        },
        {
          "output_type": "stream",
          "text": [
            "/usr/local/lib/python3.6/dist-packages/ipykernel_launcher.py:1: UserWarning: Update your `Dense` call to the Keras 2 API: `Dense(activation=\"relu\", input_dim=11, units=6, kernel_initializer=\"uniform\")`\n",
            "  \"\"\"Entry point for launching an IPython kernel.\n"
          ],
          "name": "stderr"
        }
      ]
    },
    {
      "cell_type": "code",
      "metadata": {
        "id": "rLuhgQEuv10r",
        "colab_type": "code",
        "colab": {
          "base_uri": "https://localhost:8080/",
          "height": 71
        },
        "outputId": "1d398e54-124b-4c88-8675-dff7dca0db58"
      },
      "source": [
        "#adding second hidden layer, no need input_dim since already given above\n",
        "classifier.add(Dense(output_dim=6, init='uniform', activation='relu')) "
      ],
      "execution_count": 16,
      "outputs": [
        {
          "output_type": "stream",
          "text": [
            "/usr/local/lib/python3.6/dist-packages/ipykernel_launcher.py:1: UserWarning: Update your `Dense` call to the Keras 2 API: `Dense(activation=\"relu\", units=6, kernel_initializer=\"uniform\")`\n",
            "  \"\"\"Entry point for launching an IPython kernel.\n"
          ],
          "name": "stderr"
        }
      ]
    },
    {
      "cell_type": "code",
      "metadata": {
        "id": "xssIAOQWww82",
        "colab_type": "code",
        "colab": {
          "base_uri": "https://localhost:8080/",
          "height": 71
        },
        "outputId": "9b581d67-b500-4080-c2af-0c015006770f"
      },
      "source": [
        "classifier.add(Dense(output_dim=1, init='uniform', activation='sigmoid'))\n",
        "#if we have more than 2 outputs: use softmax as activation"
      ],
      "execution_count": 17,
      "outputs": [
        {
          "output_type": "stream",
          "text": [
            "/usr/local/lib/python3.6/dist-packages/ipykernel_launcher.py:1: UserWarning: Update your `Dense` call to the Keras 2 API: `Dense(activation=\"sigmoid\", units=1, kernel_initializer=\"uniform\")`\n",
            "  \"\"\"Entry point for launching an IPython kernel.\n"
          ],
          "name": "stderr"
        }
      ]
    },
    {
      "cell_type": "code",
      "metadata": {
        "id": "Oq2KNqkhxj3K",
        "colab_type": "code",
        "colab": {
          "base_uri": "https://localhost:8080/",
          "height": 156
        },
        "outputId": "b16ee32f-457e-442c-a818-2a92fb5b86d7"
      },
      "source": [
        "classifier.compile(optimizer='adam', loss='binary_crossentropy',metrics=['accuracy'])\n",
        "#adam is type of stochastic gradient descent optimizer\n",
        "#metrics expects a list hence []"
      ],
      "execution_count": 19,
      "outputs": [
        {
          "output_type": "stream",
          "text": [
            "WARNING:tensorflow:From /usr/local/lib/python3.6/dist-packages/keras/optimizers.py:793: The name tf.train.Optimizer is deprecated. Please use tf.compat.v1.train.Optimizer instead.\n",
            "\n",
            "WARNING:tensorflow:From /usr/local/lib/python3.6/dist-packages/keras/backend/tensorflow_backend.py:3657: The name tf.log is deprecated. Please use tf.math.log instead.\n",
            "\n",
            "WARNING:tensorflow:From /usr/local/lib/python3.6/dist-packages/tensorflow_core/python/ops/nn_impl.py:183: where (from tensorflow.python.ops.array_ops) is deprecated and will be removed in a future version.\n",
            "Instructions for updating:\n",
            "Use tf.where in 2.0, which has the same broadcast rule as np.where\n"
          ],
          "name": "stdout"
        }
      ]
    },
    {
      "cell_type": "code",
      "metadata": {
        "id": "UZ9jUf3t18Yf",
        "colab_type": "code",
        "colab": {
          "base_uri": "https://localhost:8080/",
          "height": 1000
        },
        "outputId": "9497f9bb-16e7-41ca-e79b-0b03fc30a364"
      },
      "source": [
        "#fitting ANN to the training set\n",
        "classifier.fit(x_train,y_train,batch_size=10 ,epochs=100)\n"
      ],
      "execution_count": 20,
      "outputs": [
        {
          "output_type": "stream",
          "text": [
            "WARNING:tensorflow:From /usr/local/lib/python3.6/dist-packages/keras/backend/tensorflow_backend.py:1033: The name tf.assign_add is deprecated. Please use tf.compat.v1.assign_add instead.\n",
            "\n",
            "WARNING:tensorflow:From /usr/local/lib/python3.6/dist-packages/keras/backend/tensorflow_backend.py:1020: The name tf.assign is deprecated. Please use tf.compat.v1.assign instead.\n",
            "\n",
            "WARNING:tensorflow:From /usr/local/lib/python3.6/dist-packages/keras/backend/tensorflow_backend.py:3005: The name tf.Session is deprecated. Please use tf.compat.v1.Session instead.\n",
            "\n",
            "Epoch 1/100\n",
            "WARNING:tensorflow:From /usr/local/lib/python3.6/dist-packages/keras/backend/tensorflow_backend.py:190: The name tf.get_default_session is deprecated. Please use tf.compat.v1.get_default_session instead.\n",
            "\n",
            "WARNING:tensorflow:From /usr/local/lib/python3.6/dist-packages/keras/backend/tensorflow_backend.py:197: The name tf.ConfigProto is deprecated. Please use tf.compat.v1.ConfigProto instead.\n",
            "\n",
            "WARNING:tensorflow:From /usr/local/lib/python3.6/dist-packages/keras/backend/tensorflow_backend.py:207: The name tf.global_variables is deprecated. Please use tf.compat.v1.global_variables instead.\n",
            "\n",
            "WARNING:tensorflow:From /usr/local/lib/python3.6/dist-packages/keras/backend/tensorflow_backend.py:216: The name tf.is_variable_initialized is deprecated. Please use tf.compat.v1.is_variable_initialized instead.\n",
            "\n",
            "WARNING:tensorflow:From /usr/local/lib/python3.6/dist-packages/keras/backend/tensorflow_backend.py:223: The name tf.variables_initializer is deprecated. Please use tf.compat.v1.variables_initializer instead.\n",
            "\n",
            "8000/8000 [==============================] - 2s 190us/step - loss: 0.4814 - acc: 0.7960\n",
            "Epoch 2/100\n",
            "8000/8000 [==============================] - 1s 115us/step - loss: 0.4278 - acc: 0.7960\n",
            "Epoch 3/100\n",
            "8000/8000 [==============================] - 1s 116us/step - loss: 0.4213 - acc: 0.8054\n",
            "Epoch 4/100\n",
            "8000/8000 [==============================] - 1s 118us/step - loss: 0.4182 - acc: 0.8242\n",
            "Epoch 5/100\n",
            "8000/8000 [==============================] - 1s 116us/step - loss: 0.4157 - acc: 0.8282\n",
            "Epoch 6/100\n",
            "8000/8000 [==============================] - 1s 118us/step - loss: 0.4145 - acc: 0.8302\n",
            "Epoch 7/100\n",
            "8000/8000 [==============================] - 1s 116us/step - loss: 0.4131 - acc: 0.8325\n",
            "Epoch 8/100\n",
            "8000/8000 [==============================] - 1s 117us/step - loss: 0.4118 - acc: 0.8316\n",
            "Epoch 9/100\n",
            "8000/8000 [==============================] - 1s 123us/step - loss: 0.4109 - acc: 0.8331\n",
            "Epoch 10/100\n",
            "8000/8000 [==============================] - 1s 115us/step - loss: 0.4095 - acc: 0.8322\n",
            "Epoch 11/100\n",
            "8000/8000 [==============================] - 1s 116us/step - loss: 0.4092 - acc: 0.8335\n",
            "Epoch 12/100\n",
            "8000/8000 [==============================] - 1s 116us/step - loss: 0.4084 - acc: 0.8339\n",
            "Epoch 13/100\n",
            "8000/8000 [==============================] - 1s 117us/step - loss: 0.4075 - acc: 0.8342\n",
            "Epoch 14/100\n",
            "8000/8000 [==============================] - 1s 119us/step - loss: 0.4069 - acc: 0.8336\n",
            "Epoch 15/100\n",
            "8000/8000 [==============================] - 1s 121us/step - loss: 0.4064 - acc: 0.8336\n",
            "Epoch 16/100\n",
            "8000/8000 [==============================] - 1s 124us/step - loss: 0.4059 - acc: 0.8352\n",
            "Epoch 17/100\n",
            "8000/8000 [==============================] - 1s 112us/step - loss: 0.4058 - acc: 0.8350\n",
            "Epoch 18/100\n",
            "8000/8000 [==============================] - 1s 113us/step - loss: 0.4049 - acc: 0.8335\n",
            "Epoch 19/100\n",
            "8000/8000 [==============================] - 1s 112us/step - loss: 0.4048 - acc: 0.8352\n",
            "Epoch 20/100\n",
            "8000/8000 [==============================] - 1s 114us/step - loss: 0.4045 - acc: 0.8351\n",
            "Epoch 21/100\n",
            "8000/8000 [==============================] - 1s 120us/step - loss: 0.4048 - acc: 0.8364\n",
            "Epoch 22/100\n",
            "8000/8000 [==============================] - 1s 119us/step - loss: 0.4040 - acc: 0.8349\n",
            "Epoch 23/100\n",
            "8000/8000 [==============================] - 1s 118us/step - loss: 0.4038 - acc: 0.8351\n",
            "Epoch 24/100\n",
            "8000/8000 [==============================] - 1s 119us/step - loss: 0.4037 - acc: 0.8350\n",
            "Epoch 25/100\n",
            "8000/8000 [==============================] - 1s 119us/step - loss: 0.4035 - acc: 0.8340\n",
            "Epoch 26/100\n",
            "8000/8000 [==============================] - 1s 120us/step - loss: 0.4030 - acc: 0.8351\n",
            "Epoch 27/100\n",
            "8000/8000 [==============================] - 1s 118us/step - loss: 0.4031 - acc: 0.8342\n",
            "Epoch 28/100\n",
            "8000/8000 [==============================] - 1s 119us/step - loss: 0.4032 - acc: 0.8345\n",
            "Epoch 29/100\n",
            "8000/8000 [==============================] - 1s 119us/step - loss: 0.4035 - acc: 0.8361\n",
            "Epoch 30/100\n",
            "8000/8000 [==============================] - 1s 120us/step - loss: 0.4025 - acc: 0.8352\n",
            "Epoch 31/100\n",
            "8000/8000 [==============================] - 1s 115us/step - loss: 0.4027 - acc: 0.8335\n",
            "Epoch 32/100\n",
            "8000/8000 [==============================] - 1s 114us/step - loss: 0.4021 - acc: 0.8336\n",
            "Epoch 33/100\n",
            "8000/8000 [==============================] - 1s 113us/step - loss: 0.4024 - acc: 0.8359\n",
            "Epoch 34/100\n",
            "8000/8000 [==============================] - 1s 118us/step - loss: 0.4025 - acc: 0.8354\n",
            "Epoch 35/100\n",
            "8000/8000 [==============================] - 1s 121us/step - loss: 0.4020 - acc: 0.8345\n",
            "Epoch 36/100\n",
            "8000/8000 [==============================] - 1s 116us/step - loss: 0.4022 - acc: 0.8360\n",
            "Epoch 37/100\n",
            "8000/8000 [==============================] - 1s 118us/step - loss: 0.4020 - acc: 0.8359\n",
            "Epoch 38/100\n",
            "8000/8000 [==============================] - 1s 119us/step - loss: 0.4018 - acc: 0.8349\n",
            "Epoch 39/100\n",
            "8000/8000 [==============================] - 1s 117us/step - loss: 0.4016 - acc: 0.8346\n",
            "Epoch 40/100\n",
            "8000/8000 [==============================] - 1s 115us/step - loss: 0.4020 - acc: 0.8364\n",
            "Epoch 41/100\n",
            "8000/8000 [==============================] - 1s 120us/step - loss: 0.4018 - acc: 0.8356\n",
            "Epoch 42/100\n",
            "8000/8000 [==============================] - 1s 122us/step - loss: 0.4010 - acc: 0.8354\n",
            "Epoch 43/100\n",
            "8000/8000 [==============================] - 1s 123us/step - loss: 0.4013 - acc: 0.8344\n",
            "Epoch 44/100\n",
            "8000/8000 [==============================] - 1s 115us/step - loss: 0.4016 - acc: 0.8360\n",
            "Epoch 45/100\n",
            "8000/8000 [==============================] - 1s 119us/step - loss: 0.4015 - acc: 0.8345\n",
            "Epoch 46/100\n",
            "8000/8000 [==============================] - 1s 125us/step - loss: 0.4008 - acc: 0.8366\n",
            "Epoch 47/100\n",
            "8000/8000 [==============================] - 1s 114us/step - loss: 0.4017 - acc: 0.8345\n",
            "Epoch 48/100\n",
            "8000/8000 [==============================] - 1s 116us/step - loss: 0.4017 - acc: 0.8357\n",
            "Epoch 49/100\n",
            "8000/8000 [==============================] - 1s 119us/step - loss: 0.4007 - acc: 0.8367\n",
            "Epoch 50/100\n",
            "8000/8000 [==============================] - 1s 118us/step - loss: 0.4008 - acc: 0.8352\n",
            "Epoch 51/100\n",
            "8000/8000 [==============================] - 1s 120us/step - loss: 0.4006 - acc: 0.8347\n",
            "Epoch 52/100\n",
            "8000/8000 [==============================] - 1s 124us/step - loss: 0.4011 - acc: 0.8340\n",
            "Epoch 53/100\n",
            "8000/8000 [==============================] - 1s 129us/step - loss: 0.4013 - acc: 0.8346\n",
            "Epoch 54/100\n",
            "8000/8000 [==============================] - 1s 130us/step - loss: 0.4010 - acc: 0.8362\n",
            "Epoch 55/100\n",
            "8000/8000 [==============================] - 1s 129us/step - loss: 0.4009 - acc: 0.8349\n",
            "Epoch 56/100\n",
            "8000/8000 [==============================] - 1s 130us/step - loss: 0.4006 - acc: 0.8352\n",
            "Epoch 57/100\n",
            "8000/8000 [==============================] - 1s 132us/step - loss: 0.4015 - acc: 0.8375\n",
            "Epoch 58/100\n",
            "8000/8000 [==============================] - 1s 131us/step - loss: 0.4012 - acc: 0.8357\n",
            "Epoch 59/100\n",
            "8000/8000 [==============================] - 1s 135us/step - loss: 0.4006 - acc: 0.8357\n",
            "Epoch 60/100\n",
            "8000/8000 [==============================] - 1s 129us/step - loss: 0.4008 - acc: 0.8349\n",
            "Epoch 61/100\n",
            "8000/8000 [==============================] - 1s 128us/step - loss: 0.4009 - acc: 0.8374\n",
            "Epoch 62/100\n",
            "8000/8000 [==============================] - 1s 125us/step - loss: 0.4012 - acc: 0.8339\n",
            "Epoch 63/100\n",
            "8000/8000 [==============================] - 1s 120us/step - loss: 0.4010 - acc: 0.8335\n",
            "Epoch 64/100\n",
            "8000/8000 [==============================] - 1s 121us/step - loss: 0.4007 - acc: 0.8361\n",
            "Epoch 65/100\n",
            "8000/8000 [==============================] - 1s 117us/step - loss: 0.4006 - acc: 0.8336\n",
            "Epoch 66/100\n",
            "8000/8000 [==============================] - 1s 118us/step - loss: 0.4010 - acc: 0.8350\n",
            "Epoch 67/100\n",
            "8000/8000 [==============================] - 1s 116us/step - loss: 0.4005 - acc: 0.8335\n",
            "Epoch 68/100\n",
            "8000/8000 [==============================] - 1s 121us/step - loss: 0.4004 - acc: 0.8349\n",
            "Epoch 69/100\n",
            "8000/8000 [==============================] - 1s 120us/step - loss: 0.4005 - acc: 0.8355\n",
            "Epoch 70/100\n",
            "8000/8000 [==============================] - 1s 117us/step - loss: 0.4008 - acc: 0.8344\n",
            "Epoch 71/100\n",
            "8000/8000 [==============================] - 1s 119us/step - loss: 0.4000 - acc: 0.8354\n",
            "Epoch 72/100\n",
            "8000/8000 [==============================] - 1s 116us/step - loss: 0.4010 - acc: 0.8352\n",
            "Epoch 73/100\n",
            "8000/8000 [==============================] - 1s 124us/step - loss: 0.4007 - acc: 0.8355\n",
            "Epoch 74/100\n",
            "8000/8000 [==============================] - 1s 115us/step - loss: 0.4001 - acc: 0.8331\n",
            "Epoch 75/100\n",
            "8000/8000 [==============================] - 1s 118us/step - loss: 0.4007 - acc: 0.8369\n",
            "Epoch 76/100\n",
            "8000/8000 [==============================] - 1s 118us/step - loss: 0.4000 - acc: 0.8354\n",
            "Epoch 77/100\n",
            "8000/8000 [==============================] - 1s 116us/step - loss: 0.4005 - acc: 0.8334\n",
            "Epoch 78/100\n",
            "8000/8000 [==============================] - 1s 117us/step - loss: 0.4003 - acc: 0.8354\n",
            "Epoch 79/100\n",
            "8000/8000 [==============================] - 1s 121us/step - loss: 0.4004 - acc: 0.8335\n",
            "Epoch 80/100\n",
            "8000/8000 [==============================] - 1s 115us/step - loss: 0.4008 - acc: 0.8356\n",
            "Epoch 81/100\n",
            "8000/8000 [==============================] - 1s 111us/step - loss: 0.4003 - acc: 0.8341\n",
            "Epoch 82/100\n",
            "8000/8000 [==============================] - 1s 114us/step - loss: 0.4006 - acc: 0.8340\n",
            "Epoch 83/100\n",
            "8000/8000 [==============================] - 1s 116us/step - loss: 0.4002 - acc: 0.8365\n",
            "Epoch 84/100\n",
            "8000/8000 [==============================] - 1s 119us/step - loss: 0.4005 - acc: 0.8360\n",
            "Epoch 85/100\n",
            "8000/8000 [==============================] - 1s 120us/step - loss: 0.4006 - acc: 0.8356\n",
            "Epoch 86/100\n",
            "8000/8000 [==============================] - 1s 118us/step - loss: 0.3996 - acc: 0.8347\n",
            "Epoch 87/100\n",
            "8000/8000 [==============================] - 1s 116us/step - loss: 0.4001 - acc: 0.8359\n",
            "Epoch 88/100\n",
            "8000/8000 [==============================] - 1s 115us/step - loss: 0.4005 - acc: 0.8345\n",
            "Epoch 89/100\n",
            "8000/8000 [==============================] - 1s 118us/step - loss: 0.4003 - acc: 0.8362\n",
            "Epoch 90/100\n",
            "8000/8000 [==============================] - 1s 119us/step - loss: 0.4005 - acc: 0.8349\n",
            "Epoch 91/100\n",
            "8000/8000 [==============================] - 1s 120us/step - loss: 0.4003 - acc: 0.8364\n",
            "Epoch 92/100\n",
            "8000/8000 [==============================] - 1s 120us/step - loss: 0.3998 - acc: 0.8350\n",
            "Epoch 93/100\n",
            "8000/8000 [==============================] - 1s 118us/step - loss: 0.4003 - acc: 0.8370\n",
            "Epoch 94/100\n",
            "8000/8000 [==============================] - 1s 112us/step - loss: 0.4005 - acc: 0.8380\n",
            "Epoch 95/100\n",
            "8000/8000 [==============================] - 1s 116us/step - loss: 0.4003 - acc: 0.8352\n",
            "Epoch 96/100\n",
            "8000/8000 [==============================] - 1s 118us/step - loss: 0.4004 - acc: 0.8355\n",
            "Epoch 97/100\n",
            "8000/8000 [==============================] - 1s 114us/step - loss: 0.4004 - acc: 0.8366\n",
            "Epoch 98/100\n",
            "8000/8000 [==============================] - 1s 113us/step - loss: 0.3998 - acc: 0.8364\n",
            "Epoch 99/100\n",
            "8000/8000 [==============================] - 1s 114us/step - loss: 0.4008 - acc: 0.8352\n",
            "Epoch 100/100\n",
            "8000/8000 [==============================] - 1s 119us/step - loss: 0.3995 - acc: 0.8352\n"
          ],
          "name": "stdout"
        },
        {
          "output_type": "execute_result",
          "data": {
            "text/plain": [
              "<keras.callbacks.History at 0x7f9b82e2ae10>"
            ]
          },
          "metadata": {
            "tags": []
          },
          "execution_count": 20
        }
      ]
    },
    {
      "cell_type": "code",
      "metadata": {
        "id": "YOsrhpHbrQJq",
        "colab_type": "code",
        "colab": {
          "base_uri": "https://localhost:8080/",
          "height": 136
        },
        "outputId": "501de423-19f8-40a0-ece9-0e5ce432d583"
      },
      "source": [
        "y_pred=classifier.predict(x_test)\n",
        "y_pred"
      ],
      "execution_count": 21,
      "outputs": [
        {
          "output_type": "execute_result",
          "data": {
            "text/plain": [
              "array([[0.18221673],\n",
              "       [0.31293958],\n",
              "       [0.18196106],\n",
              "       ...,\n",
              "       [0.1502833 ],\n",
              "       [0.12184915],\n",
              "       [0.09708941]], dtype=float32)"
            ]
          },
          "metadata": {
            "tags": []
          },
          "execution_count": 21
        }
      ]
    },
    {
      "cell_type": "code",
      "metadata": {
        "id": "LXBTbG7Z4cbk",
        "colab_type": "code",
        "colab": {
          "base_uri": "https://localhost:8080/",
          "height": 136
        },
        "outputId": "f19f3e54-0bb1-46d7-ecf9-576edf630e5e"
      },
      "source": [
        "y_pred=(y_pred >0.5)\n",
        "y_pred"
      ],
      "execution_count": 25,
      "outputs": [
        {
          "output_type": "execute_result",
          "data": {
            "text/plain": [
              "array([[False],\n",
              "       [False],\n",
              "       [False],\n",
              "       ...,\n",
              "       [False],\n",
              "       [False],\n",
              "       [False]])"
            ]
          },
          "metadata": {
            "tags": []
          },
          "execution_count": 25
        }
      ]
    },
    {
      "cell_type": "code",
      "metadata": {
        "id": "-5xV9CcM3mEz",
        "colab_type": "code",
        "colab": {
          "base_uri": "https://localhost:8080/",
          "height": 51
        },
        "outputId": "9ed17f25-af7c-47ed-ed14-6ff0be51bade"
      },
      "source": [
        "from sklearn.metrics import accuracy_score,confusion_matrix\n",
        "cm=confusion_matrix(y_test,y_pred)\n",
        "cm"
      ],
      "execution_count": 26,
      "outputs": [
        {
          "output_type": "execute_result",
          "data": {
            "text/plain": [
              "array([[1549,   46],\n",
              "       [ 269,  136]])"
            ]
          },
          "metadata": {
            "tags": []
          },
          "execution_count": 26
        }
      ]
    },
    {
      "cell_type": "code",
      "metadata": {
        "id": "pVkXCaxF4r20",
        "colab_type": "code",
        "colab": {
          "base_uri": "https://localhost:8080/",
          "height": 34
        },
        "outputId": "59f4dccc-e394-4c88-a6ff-9165e781afe0"
      },
      "source": [
        "score=accuracy_score(y_test,y_pred)\n",
        "score"
      ],
      "execution_count": 27,
      "outputs": [
        {
          "output_type": "execute_result",
          "data": {
            "text/plain": [
              "0.8425"
            ]
          },
          "metadata": {
            "tags": []
          },
          "execution_count": 27
        }
      ]
    },
    {
      "cell_type": "code",
      "metadata": {
        "id": "-gcbsYVY5kWf",
        "colab_type": "code",
        "colab": {}
      },
      "source": [
        "#Predict below:Geography: France Credit Score: 600 Gender: Male Age: 40 years old Tenure: 3 years Balance: $60000 Number of Products: 2\n",
        "#Does this customer have a credit card ? Yes Is this customer an Active Member: Yes Estimated Salary: $50000\n",
        "\n",
        "new_pred=classifier.predict(scaler.transform(np.array([[0,0,600, 1, 40,3,60000,2,1,1,50000]])))\n",
        "new_pred=(new_pred>0.5)\n",
        "#[[]] double brackets to have as 2d array and first row of that 2d array"
      ],
      "execution_count": 0,
      "outputs": []
    },
    {
      "cell_type": "code",
      "metadata": {
        "id": "k7hG4yeD8nqX",
        "colab_type": "code",
        "colab": {
          "base_uri": "https://localhost:8080/",
          "height": 34
        },
        "outputId": "74460f56-4561-45f5-9a07-dd9964f2f6f5"
      },
      "source": [
        "new_pred"
      ],
      "execution_count": 33,
      "outputs": [
        {
          "output_type": "execute_result",
          "data": {
            "text/plain": [
              "array([[False]])"
            ]
          },
          "metadata": {
            "tags": []
          },
          "execution_count": 33
        }
      ]
    }
  ]
}